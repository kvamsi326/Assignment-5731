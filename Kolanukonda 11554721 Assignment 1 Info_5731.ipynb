{
 "cells": [
  {
   "cell_type": "markdown",
   "metadata": {
    "colab_type": "text",
    "id": "view-in-github"
   },
   "source": [
    "<a href=\"https://colab.research.google.com/github/unt-iialab/INFO5731_Spring2020/blob/master/Assignments/INFO5731_Assignment_One.ipynb\" target=\"_parent\"><img src=\"https://colab.research.google.com/assets/colab-badge.svg\" alt=\"Open In Colab\"/></a>"
   ]
  },
  {
   "cell_type": "markdown",
   "metadata": {
    "colab_type": "text",
    "id": "Ryk8D1Q4Wsrp"
   },
   "source": [
    "# **INFO5731 Assignment One**"
   ]
  },
  {
   "cell_type": "markdown",
   "metadata": {
    "colab_type": "text",
    "id": "90_NR8c5XGWc"
   },
   "source": [
    "# Question 1\n",
    "\n",
    "(20 points). Write a Python program to generate 12 random numbers between 1 and 100. Sort the list of numbers in ascending order and print it out. Sort the list of numbers in descending order and print it out. Calculate the average for the group and print it out."
   ]
  },
  {
   "cell_type": "code",
   "execution_count": 5,
   "metadata": {
    "colab": {},
    "colab_type": "code",
    "id": "5QX6bJjGWXY9"
   },
   "outputs": [
    {
     "name": "stdout",
     "output_type": "stream",
     "text": [
      "Ascending Order of the random list is: [4, 25, 34, 41, 53, 56, 64, 72, 77, 88, 89, 90]\n",
      "Descending Order of the random list is: [90, 89, 88, 77, 72, 64, 56, 53, 41, 34, 25, 4]\n",
      "The avg is: 57.75\n"
     ]
    }
   ],
   "source": [
    "# Your code here\n",
    "import random\n",
    "\n",
    "# this line generates the 12 random numbers as a list\n",
    "randomlist = random.sample(range(1, 100), 12)\n",
    "\n",
    "print(\"Ascending Order of the random list is:\", sorted(randomlist))\n",
    "print(\"Descending Order of the random list is:\", sorted(randomlist, reverse = True))\n",
    "print(\"The avg is:\", sum(randomlist)/len(randomlist))\n"
   ]
  },
  {
   "cell_type": "markdown",
   "metadata": {
    "colab_type": "text",
    "id": "1F_PZdH9Sh49"
   },
   "source": [
    "# Question 2\n",
    "(25 points). Write a program that will do the following string formatting tasks:\n",
    "\n",
    "(1) Ask the user to enter two sentences.\n",
    "\n",
    "(2) Make each sentence into a list. Each element in the list should correspond to a word in the sentence. For example, if the sentence is \"Alas! Am I alive? This is my first python program\", the program should print out ['Alas, '!', 'Am', 'I', 'alive, '?', 'This', 'is', 'my', 'first', 'python', 'program'].\n",
    "\n",
    "(3) Compare the two sentences. Print out a list of words that occur in both sentences.\n",
    "\n",
    "(4) Remove any punctuation from the sentence and print it back out. It should remove at least the following characters, but it can remove more: period(“.”), comma (“,”), semicolon (“;”), and colon (“:”)\n",
    "\n",
    "(5) Count the number of vowels in the sentences. Print out each vowel and the number of times it appears in the sentences, such as: a:2, e:1, i:0, etc"
   ]
  },
  {
   "cell_type": "code",
   "execution_count": 7,
   "metadata": {
    "colab": {},
    "colab_type": "code",
    "id": "Y0oOSlsOS0cq"
   },
   "outputs": [
    {
     "name": "stdout",
     "output_type": "stream",
     "text": [
      "Enter first sentence: Alas! Am I alive? This is my first python program\n",
      "Enter second sentence: Alas! Am I alive? This is my first python program&&& *** 999\n",
      "['Alas', '!', 'Am', 'I', 'alive', '?', 'This', 'is', 'my', 'first', 'python', 'program']\n",
      "['Alas', '!', 'Am', 'I', 'alive', '?', 'This', 'is', 'my', 'first', 'python', 'program', '&', '&', '&', '*', '*', '*', '9', '9', '9']\n",
      "\n",
      "Common words in both the sentences:  ['is', 'This', 'Am', 'first', 'alive', 'Alas', 'I', 'program', 'python', 'my']\n",
      "\n",
      "Alas Am I alive This is my first python program\n",
      "\n",
      "{'a': 5, 'e': 1, 'i': 5, 'o': 2, 'u': 0}\n",
      "{'a': 5, 'e': 1, 'i': 5, 'o': 2, 'u': 0}\n"
     ]
    }
   ],
   "source": [
    "# Your code here\n",
    "# 1.)\n",
    "sent1 = input(\"Enter first sentence: \")\n",
    "sent2 = input(\"Enter second sentence: \")\n",
    "\n",
    "# 2.)\n",
    "import re\n",
    "\n",
    "sent1_list = re.findall(r\"[A-Za-z]+|\\S\", sent1)\n",
    "sent2_list = re.findall(r\"[A-Za-z]+|\\S\", sent2)\n",
    "print(sent1_list)\n",
    "print(sent2_list)\n",
    "print()\n",
    "\n",
    "# 3.)\n",
    "common_words = list(set(sent1_list) & set(sent2_list))\n",
    "common_words = [i for i in common_words if i.isalpha()]\n",
    "print(\"Common words in both the sentences: \", common_words)\n",
    "print()\n",
    "\n",
    "# 4.)\n",
    "print(\" \".join(i for i in re.findall(r\"[A-Za-z]+|\\s\", sent1) if i != \" \"))\n",
    "print()\n",
    "\n",
    "# 5.)\n",
    "for sent in (sent1, sent2):\n",
    "    vowels_dict = {}\n",
    "    \n",
    "    for char in ['a', 'e', 'i', 'o', 'u']:\n",
    "        vowels_dict[char] = sent.lower().count(char)\n",
    "\n",
    "    print(vowels_dict)\n"
   ]
  },
  {
   "cell_type": "markdown",
   "metadata": {
    "colab_type": "text",
    "id": "CmFoI4jDS9nx"
   },
   "source": [
    "# Question 3 \n",
    "\n",
    "(15 points). The formula that describes the volume V of a sphere with radius r is the following:\n",
    "\n",
    "$ V=\\frac{4}{3}\\ast\\ \\pi\\ast\\ r^3 $\n",
    "\n",
    "Write a program to calculate the value of V when r is in the range of 1–10. Output the result in the following format:\n",
    "\n",
    "\tr\tV\n",
    "\t1\t…\n",
    "\t2\t…\n",
    "\t3\t…\n"
   ]
  },
  {
   "cell_type": "code",
   "execution_count": 8,
   "metadata": {
    "colab": {},
    "colab_type": "code",
    "id": "pEyqeioAT95b"
   },
   "outputs": [
    {
     "name": "stdout",
     "output_type": "stream",
     "text": [
      "r   v\n",
      "1   4.1887902047863905\n",
      "2   33.510321638291124\n",
      "3   113.09733552923254\n",
      "4   268.082573106329\n",
      "5   523.5987755982989\n",
      "6   904.7786842338603\n",
      "7   1436.7550402417319\n",
      "8   2144.660584850632\n",
      "9   3053.6280592892786\n",
      "10   4188.790204786391\n"
     ]
    }
   ],
   "source": [
    "# Your code here\n",
    "\n",
    "import math\n",
    "\n",
    "print(\"r   v\")\n",
    "\n",
    "# we loop through each r, v in the range from 1 to 11\n",
    "for radius in range(1, 11):\n",
    "    print(\"{}   {}\".format(radius, (4/3)*math.pi*(radius**3)))"
   ]
  },
  {
   "cell_type": "markdown",
   "metadata": {
    "colab_type": "text",
    "id": "z3tBE7E-Xn5X"
   },
   "source": [
    "# Question 4\n",
    "\n",
    "(40 points). In the field of Data Science, data is often formatted as a comma-delimited (CSV) file, where each line in a file corresponds to a field's value. Refer to Chapter 9 (p. 106) for more information on comma-delimited files. To answer this question, you will need to download the file [Assignment1_denton_housing.csv](https://raw.githubusercontent.com/unt-iialab/info5731-spring2022/main/assignments/Assignment1_denton_housing.csv) included with this assignment. The file [Assignment1_denton_housing.csv](https://raw.githubusercontent.com/unt-iialab/info5731-spring2022/main/assignments/Assignment1_denton_housing.csv) contains statistics about housing in the city of Denton from 2008 to 2014. Write a program to implement the following questions.\n",
    "\n",
    "(1) (10 pts) Calculate the difference in the number of Occupied Housing Units from year to year and print it. The difference must be calculated for the consecutive years such as 2008-2009, 2009-2010 etc. Finally, print the values in the ascending order.\n",
    "\n",
    "(2) (10 pts) For all the years, calculate the percentage of housing units which are vacant an occupied. Print the results in the following format:\n",
    "\n",
    "Year Vacant Housing Units Occupied Housing Units\n",
    "\n",
    "    2008  30%   70%                          \n",
    "\t2009 ----- -----\n",
    "\t2010 ----- -----\n",
    "    2011 ----- -----\n",
    "\t2012 ----- -----\n",
    "    2013 ----- -----\n",
    "\t2014 ----- -----\n",
    "  \n",
    "  \n",
    "\n",
    "(3) (10 pts) Calculate and print the valued and years in which the highest number of housing units were vacant and occupied. Print the results in the following format:  \n",
    "\n",
    "                              Year\tValue\n",
    "\tVacant Housing Units\t  -----   -----\n",
    "\tOccupied Housing Units\t-----   -----\n",
    "\n",
    "(4) (10 pts) Calculate the harmonic mean of the total housing units and print it out. You can find the information about harmonic mean here: https://ncalculators.com/statistics/harmonic-mean-calculator.htm"
   ]
  },
  {
   "cell_type": "code",
   "execution_count": 13,
   "metadata": {
    "colab": {},
    "colab_type": "code",
    "id": "lqGYuHBhcsRH"
   },
   "outputs": [
    {
     "name": "stdout",
     "output_type": "stream",
     "text": [
      "The ascending order of Occupied Housing Units is: \n",
      "2010-2011: 303\n",
      "2008-2009: 795\n",
      "2011-2012: 1404\n",
      "2012-2013: 1565\n",
      "2013-2014: 2622\n",
      "2009-2010: 5091\n"
     ]
    }
   ],
   "source": [
    "# Your code here\n",
    "\n",
    "# 1.)\n",
    "import pandas as pd\n",
    "import io\n",
    "\n",
    "data = pd.read_csv('Assignment1_denton_housing.csv')\n",
    "\n",
    "result = {}\n",
    "for year in range(2008, 2014):\n",
    "    result[\"{}-{}\".format(year, year+1)] = abs(data[(data['year'] == year) & (data['title_field'] == \"Occupied Housing Units\")].values[0][2] - data[(data['year'] == year + 1) & (data['title_field'] == \"Occupied Housing Units\")].values[0][2])\n",
    "\n",
    "print(\"The ascending order of Occupied Housing Units is: \")\n",
    "result = {k: v for k, v in sorted(result.items(), key=lambda item: item[1])}\n",
    "\n",
    "for key in result.keys():\n",
    "    print(\"{}: {}\".format(key, result[key]))\n",
    "\n"
   ]
  },
  {
   "cell_type": "code",
   "execution_count": 16,
   "metadata": {},
   "outputs": [
    {
     "name": "stderr",
     "output_type": "stream",
     "text": [
      "C:\\Users\\maganti\\AppData\\Local\\Temp\\ipykernel_17512\\177920375.py:14: FutureWarning: The frame.append method is deprecated and will be removed from pandas in a future version. Use pandas.concat instead.\n",
      "  percentage_result = percentage_result.append(result, ignore_index=True)\n",
      "C:\\Users\\maganti\\AppData\\Local\\Temp\\ipykernel_17512\\177920375.py:14: FutureWarning: The frame.append method is deprecated and will be removed from pandas in a future version. Use pandas.concat instead.\n",
      "  percentage_result = percentage_result.append(result, ignore_index=True)\n",
      "C:\\Users\\maganti\\AppData\\Local\\Temp\\ipykernel_17512\\177920375.py:14: FutureWarning: The frame.append method is deprecated and will be removed from pandas in a future version. Use pandas.concat instead.\n",
      "  percentage_result = percentage_result.append(result, ignore_index=True)\n",
      "C:\\Users\\maganti\\AppData\\Local\\Temp\\ipykernel_17512\\177920375.py:14: FutureWarning: The frame.append method is deprecated and will be removed from pandas in a future version. Use pandas.concat instead.\n",
      "  percentage_result = percentage_result.append(result, ignore_index=True)\n",
      "C:\\Users\\maganti\\AppData\\Local\\Temp\\ipykernel_17512\\177920375.py:14: FutureWarning: The frame.append method is deprecated and will be removed from pandas in a future version. Use pandas.concat instead.\n",
      "  percentage_result = percentage_result.append(result, ignore_index=True)\n",
      "C:\\Users\\maganti\\AppData\\Local\\Temp\\ipykernel_17512\\177920375.py:14: FutureWarning: The frame.append method is deprecated and will be removed from pandas in a future version. Use pandas.concat instead.\n",
      "  percentage_result = percentage_result.append(result, ignore_index=True)\n"
     ]
    },
    {
     "name": "stdout",
     "output_type": "stream",
     "text": [
      " Year Vacant Housing Units Occupied Housing Units\n",
      " 2008                10.88                  89.12\n",
      " 2009                 9.07                  90.93\n",
      " 2010                 8.14                  91.86\n",
      " 2011                 9.38                  90.62\n",
      " 2012                 6.68                  93.32\n",
      " 2013                  8.8                   91.2\n",
      " 2014                 5.73                  94.27\n"
     ]
    },
    {
     "name": "stderr",
     "output_type": "stream",
     "text": [
      "C:\\Users\\maganti\\AppData\\Local\\Temp\\ipykernel_17512\\177920375.py:14: FutureWarning: The frame.append method is deprecated and will be removed from pandas in a future version. Use pandas.concat instead.\n",
      "  percentage_result = percentage_result.append(result, ignore_index=True)\n"
     ]
    }
   ],
   "source": [
    "# 2.)\n",
    "import pandas as pd\n",
    "\n",
    "percentage_result = pd.DataFrame(columns = ['Year', 'Vacant Housing Units', 'Occupied Housing Units'])\n",
    "\n",
    "# we are looping through years starting from 2008 to 2015...\n",
    "for year in range(2008, 2015):\n",
    "    result = {}\n",
    "    result['Year'] = year\n",
    "    result['Vacant Housing Units'] = round((data[(data['year'] == year)]['value'].values[1]) / (data[(data['year'] == year)]['value'].values[0])*100, 2)\n",
    "    result['Occupied Housing Units'] = round((data[(data['year'] == year)]['value'].values[2]) / (data[(data['year'] == year)]['value'].values[0])*100, 2) \n",
    "    \n",
    "    # append each result to dataframe...\n",
    "    percentage_result = percentage_result.append(result, ignore_index=True)\n",
    "\n",
    "percentage_result['Year'] = percentage_result['Year'].astype('int64')\n",
    "\n",
    "#percentage_result.set_index('Year', inplace=True)\n",
    "print(percentage_result.to_string(index=False))"
   ]
  },
  {
   "cell_type": "code",
   "execution_count": 17,
   "metadata": {},
   "outputs": [
    {
     "name": "stdout",
     "output_type": "stream",
     "text": [
      "                       Year Value\n",
      "  Vacant Housing Units 2008  4483\n",
      "Occupied Housing Units 2014 46295\n"
     ]
    },
    {
     "name": "stderr",
     "output_type": "stream",
     "text": [
      "C:\\Users\\maganti\\AppData\\Local\\Temp\\ipykernel_17512\\2035796410.py:12: FutureWarning: The frame.append method is deprecated and will be removed from pandas in a future version. Use pandas.concat instead.\n",
      "  housing_units_df = housing_units_df.append(result, ignore_index=True)\n",
      "C:\\Users\\maganti\\AppData\\Local\\Temp\\ipykernel_17512\\2035796410.py:12: FutureWarning: The frame.append method is deprecated and will be removed from pandas in a future version. Use pandas.concat instead.\n",
      "  housing_units_df = housing_units_df.append(result, ignore_index=True)\n"
     ]
    }
   ],
   "source": [
    "# 3.)\n",
    "\n",
    "housing_units_df = pd.DataFrame(columns=['Units','Year', 'Value'])\n",
    "\n",
    "# we loop through housing units and append to dataframe\n",
    "for units in ['Vacant Housing Units', \"Occupied Housing Units\"]:\n",
    "    result = {}\n",
    "    result['Units'] = units\n",
    "    result['Value'] = data[data['title_field'] == units].max()[2]\n",
    "    result['Year'] = data[(data['title_field'] == units) & (data['value'] == result['Value'])]['year'].values[0]\n",
    "    \n",
    "    # append each result to dataframe...\n",
    "    housing_units_df = housing_units_df.append(result, ignore_index=True)\n",
    "\n",
    "housing_units_df.rename(columns = {'Units':\"\", 'Year': \"Year\", \"Value\": \"Value\"}, inplace = True)\n",
    "print(housing_units_df.to_string(index = False))"
   ]
  },
  {
   "cell_type": "code",
   "execution_count": 18,
   "metadata": {},
   "outputs": [
    {
     "name": "stdout",
     "output_type": "stream",
     "text": [
      "The Harmonic mean of Total Housing Units is:  44398.28543969185\n"
     ]
    }
   ],
   "source": [
    "# 4.)\n",
    "from statistics import harmonic_mean\n",
    "\n",
    "# we calculate the harmonic mean of Total Housing Units using statistics package...\n",
    "print(\"The Harmonic mean of Total Housing Units is: \",harmonic_mean(data[data['title_field'] == 'Total Housing Units']['value']))"
   ]
  },
  {
   "cell_type": "code",
   "execution_count": null,
   "metadata": {},
   "outputs": [],
   "source": []
  }
 ],
 "metadata": {
  "colab": {
   "authorship_tag": "ABX9TyOAjsNCkNulTpzgRQbHdy3f",
   "collapsed_sections": [],
   "include_colab_link": true,
   "name": "INFO5731_Assignment_One.ipynb",
   "provenance": []
  },
  "kernelspec": {
   "display_name": "Python 3 (ipykernel)",
   "language": "python",
   "name": "python3"
  },
  "language_info": {
   "codemirror_mode": {
    "name": "ipython",
    "version": 3
   },
   "file_extension": ".py",
   "mimetype": "text/x-python",
   "name": "python",
   "nbconvert_exporter": "python",
   "pygments_lexer": "ipython3",
   "version": "3.9.12"
  }
 },
 "nbformat": 4,
 "nbformat_minor": 1
}
